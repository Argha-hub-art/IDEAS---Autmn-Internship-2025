{
 "cells": [
  {
   "cell_type": "code",
   "execution_count": 1,
   "id": "a1934788",
   "metadata": {
    "_cell_guid": "b1076dfc-b9ad-4769-8c92-a6c4dae69d19",
    "_uuid": "8f2839f25d086af736a60e9eeb907d3b93b6e0e5",
    "execution": {
     "iopub.execute_input": "2025-08-31T09:30:15.738078Z",
     "iopub.status.busy": "2025-08-31T09:30:15.737773Z",
     "iopub.status.idle": "2025-08-31T09:30:17.878117Z",
     "shell.execute_reply": "2025-08-31T09:30:17.876801Z"
    },
    "papermill": {
     "duration": 2.14911,
     "end_time": "2025-08-31T09:30:17.880010",
     "exception": false,
     "start_time": "2025-08-31T09:30:15.730900",
     "status": "completed"
    },
    "tags": []
   },
   "outputs": [
    {
     "name": "stdout",
     "output_type": "stream",
     "text": [
      "/kaggle/input/mnist-dataset/train-images.idx3-ubyte\n",
      "/kaggle/input/mnist-dataset/t10k-labels.idx1-ubyte\n",
      "/kaggle/input/mnist-dataset/t10k-images.idx3-ubyte\n",
      "/kaggle/input/mnist-dataset/train-labels.idx1-ubyte\n",
      "/kaggle/input/mnist-dataset/t10k-labels-idx1-ubyte/t10k-labels-idx1-ubyte\n",
      "/kaggle/input/mnist-dataset/t10k-images-idx3-ubyte/t10k-images-idx3-ubyte\n",
      "/kaggle/input/mnist-dataset/train-labels-idx1-ubyte/train-labels-idx1-ubyte\n",
      "/kaggle/input/mnist-dataset/train-images-idx3-ubyte/train-images-idx3-ubyte\n"
     ]
    }
   ],
   "source": [
    "# This Python 3 environment comes with many helpful analytics libraries installed\n",
    "# It is defined by the kaggle/python Docker image: https://github.com/kaggle/docker-python\n",
    "# For example, here's several helpful packages to load\n",
    "\n",
    "import numpy as np # linear algebra\n",
    "import pandas as pd # data processing, CSV file I/O (e.g. pd.read_csv)\n",
    "\n",
    "# Input data files are available in the read-only \"../input/\" directory\n",
    "# For example, running this (by clicking run or pressing Shift+Enter) will list all files under the input directory\n",
    "\n",
    "import os\n",
    "for dirname, _, filenames in os.walk('/kaggle/input'):\n",
    "    for filename in filenames:\n",
    "        print(os.path.join(dirname, filename))\n",
    "\n",
    "# You can write up to 20GB to the current directory (/kaggle/working/) that gets preserved as output when you create a version using \"Save & Run All\" \n",
    "# You can also write temporary files to /kaggle/temp/, but they won't be saved outside of the current session"
   ]
  },
  {
   "cell_type": "code",
   "execution_count": 2,
   "id": "288a5e2f",
   "metadata": {
    "execution": {
     "iopub.execute_input": "2025-08-31T09:30:17.891270Z",
     "iopub.status.busy": "2025-08-31T09:30:17.890812Z",
     "iopub.status.idle": "2025-08-31T09:30:37.587236Z",
     "shell.execute_reply": "2025-08-31T09:30:37.586223Z"
    },
    "papermill": {
     "duration": 19.704031,
     "end_time": "2025-08-31T09:30:37.588981",
     "exception": false,
     "start_time": "2025-08-31T09:30:17.884950",
     "status": "completed"
    },
    "tags": []
   },
   "outputs": [
    {
     "name": "stderr",
     "output_type": "stream",
     "text": [
      "2025-08-31 09:30:20.197670: E external/local_xla/xla/stream_executor/cuda/cuda_fft.cc:477] Unable to register cuFFT factory: Attempting to register factory for plugin cuFFT when one has already been registered\n",
      "WARNING: All log messages before absl::InitializeLog() is called are written to STDERR\n",
      "E0000 00:00:1756632620.497264      13 cuda_dnn.cc:8310] Unable to register cuDNN factory: Attempting to register factory for plugin cuDNN when one has already been registered\n",
      "E0000 00:00:1756632620.583377      13 cuda_blas.cc:1418] Unable to register cuBLAS factory: Attempting to register factory for plugin cuBLAS when one has already been registered\n"
     ]
    }
   ],
   "source": [
    "import numpy as np\n",
    "import pandas as pd\n",
    "import tensorflow\n",
    "from tensorflow import keras\n",
    "from tensorflow.keras import Sequential\n",
    "from tensorflow.keras.layers import Dense,Flatten"
   ]
  },
  {
   "cell_type": "code",
   "execution_count": 3,
   "id": "51971726",
   "metadata": {
    "execution": {
     "iopub.execute_input": "2025-08-31T09:30:37.600041Z",
     "iopub.status.busy": "2025-08-31T09:30:37.599487Z",
     "iopub.status.idle": "2025-08-31T09:30:38.182011Z",
     "shell.execute_reply": "2025-08-31T09:30:38.180896Z"
    },
    "papermill": {
     "duration": 0.589963,
     "end_time": "2025-08-31T09:30:38.183843",
     "exception": false,
     "start_time": "2025-08-31T09:30:37.593880",
     "status": "completed"
    },
    "tags": []
   },
   "outputs": [
    {
     "name": "stdout",
     "output_type": "stream",
     "text": [
      "Downloading data from https://storage.googleapis.com/tensorflow/tf-keras-datasets/mnist.npz\n",
      "\u001b[1m11490434/11490434\u001b[0m \u001b[32m━━━━━━━━━━━━━━━━━━━━\u001b[0m\u001b[37m\u001b[0m \u001b[1m0s\u001b[0m 0us/step\n"
     ]
    }
   ],
   "source": [
    "(X_train,y_train),(X_test,y_test)=keras.datasets.mnist.load_data()"
   ]
  },
  {
   "cell_type": "code",
   "execution_count": 4,
   "id": "3d071092",
   "metadata": {
    "execution": {
     "iopub.execute_input": "2025-08-31T09:30:38.196270Z",
     "iopub.status.busy": "2025-08-31T09:30:38.195887Z",
     "iopub.status.idle": "2025-08-31T09:30:38.202887Z",
     "shell.execute_reply": "2025-08-31T09:30:38.201712Z"
    },
    "papermill": {
     "duration": 0.014896,
     "end_time": "2025-08-31T09:30:38.204622",
     "exception": false,
     "start_time": "2025-08-31T09:30:38.189726",
     "status": "completed"
    },
    "tags": []
   },
   "outputs": [
    {
     "data": {
      "text/plain": [
       "(60000, 28, 28)"
      ]
     },
     "execution_count": 4,
     "metadata": {},
     "output_type": "execute_result"
    }
   ],
   "source": [
    "X_train.shape"
   ]
  },
  {
   "cell_type": "code",
   "execution_count": 5,
   "id": "522ea496",
   "metadata": {
    "execution": {
     "iopub.execute_input": "2025-08-31T09:30:38.216020Z",
     "iopub.status.busy": "2025-08-31T09:30:38.215728Z",
     "iopub.status.idle": "2025-08-31T09:30:38.222029Z",
     "shell.execute_reply": "2025-08-31T09:30:38.221024Z"
    },
    "papermill": {
     "duration": 0.013598,
     "end_time": "2025-08-31T09:30:38.223502",
     "exception": false,
     "start_time": "2025-08-31T09:30:38.209904",
     "status": "completed"
    },
    "tags": []
   },
   "outputs": [
    {
     "data": {
      "text/plain": [
       "(28, 28)"
      ]
     },
     "execution_count": 5,
     "metadata": {},
     "output_type": "execute_result"
    }
   ],
   "source": [
    "X_train[0].shape"
   ]
  },
  {
   "cell_type": "code",
   "execution_count": 6,
   "id": "95de8a8b",
   "metadata": {
    "execution": {
     "iopub.execute_input": "2025-08-31T09:30:38.235289Z",
     "iopub.status.busy": "2025-08-31T09:30:38.234940Z",
     "iopub.status.idle": "2025-08-31T09:30:38.562165Z",
     "shell.execute_reply": "2025-08-31T09:30:38.561159Z"
    },
    "papermill": {
     "duration": 0.335294,
     "end_time": "2025-08-31T09:30:38.563919",
     "exception": false,
     "start_time": "2025-08-31T09:30:38.228625",
     "status": "completed"
    },
    "tags": []
   },
   "outputs": [
    {
     "data": {
      "text/plain": [
       "<matplotlib.image.AxesImage at 0x7b95a693bad0>"
      ]
     },
     "execution_count": 6,
     "metadata": {},
     "output_type": "execute_result"
    },
    {
     "data": {
      "image/png": "[encoded data removed]",
      "text/plain": [
       "<Figure size 640x480 with 1 Axes>"
      ]
     },
     "metadata": {},
     "output_type": "display_data"
    }
   ],
   "source": [
    "#Displaying digits using matplotlib\n",
    "import matplotlib.pyplot as plt\n",
    "plt.imshow(X_train[0])"
   ]
  },
  {
   "cell_type": "code",
   "execution_count": 7,
   "id": "5e1f24c7",
   "metadata": {
    "execution": {
     "iopub.execute_input": "2025-08-31T09:30:38.578502Z",
     "iopub.status.busy": "2025-08-31T09:30:38.578127Z",
     "iopub.status.idle": "2025-08-31T09:30:38.746159Z",
     "shell.execute_reply": "2025-08-31T09:30:38.745022Z"
    },
    "papermill": {
     "duration": 0.17782,
     "end_time": "2025-08-31T09:30:38.747901",
     "exception": false,
     "start_time": "2025-08-31T09:30:38.570081",
     "status": "completed"
    },
    "tags": []
   },
   "outputs": [
    {
     "data": {
      "text/plain": [
       "<matplotlib.image.AxesImage at 0x7b95d63efc90>"
      ]
     },
     "execution_count": 7,
     "metadata": {},
     "output_type": "execute_result"
    },
    {
     "data": {
      "image/png": "[encoded data removed]",
      "text/plain": [
       "<Figure size 640x480 with 1 Axes>"
      ]
     },
     "metadata": {},
     "output_type": "display_data"
    }
   ],
   "source": [
    "plt.imshow(X_train[1])"
   ]
  },
  {
   "cell_type": "code",
   "execution_count": 8,
   "id": "e72c77e6",
   "metadata": {
    "execution": {
     "iopub.execute_input": "2025-08-31T09:30:38.760785Z",
     "iopub.status.busy": "2025-08-31T09:30:38.760451Z",
     "iopub.status.idle": "2025-08-31T09:30:38.768402Z",
     "shell.execute_reply": "2025-08-31T09:30:38.767456Z"
    },
    "papermill": {
     "duration": 0.016007,
     "end_time": "2025-08-31T09:30:38.769885",
     "exception": false,
     "start_time": "2025-08-31T09:30:38.753878",
     "status": "completed"
    },
    "tags": []
   },
   "outputs": [],
   "source": [
    "ma=X_train.max()"
   ]
  },
  {
   "cell_type": "code",
   "execution_count": 9,
   "id": "8c0d78b1",
   "metadata": {
    "execution": {
     "iopub.execute_input": "2025-08-31T09:30:38.782734Z",
     "iopub.status.busy": "2025-08-31T09:30:38.782377Z",
     "iopub.status.idle": "2025-08-31T09:30:38.787360Z",
     "shell.execute_reply": "2025-08-31T09:30:38.786467Z"
    },
    "papermill": {
     "duration": 0.0134,
     "end_time": "2025-08-31T09:30:38.789043",
     "exception": false,
     "start_time": "2025-08-31T09:30:38.775643",
     "status": "completed"
    },
    "tags": []
   },
   "outputs": [],
   "source": [
    "mi=X_test.max()"
   ]
  },
  {
   "cell_type": "code",
   "execution_count": 10,
   "id": "d5eb1344",
   "metadata": {
    "execution": {
     "iopub.execute_input": "2025-08-31T09:30:38.801954Z",
     "iopub.status.busy": "2025-08-31T09:30:38.801541Z",
     "iopub.status.idle": "2025-08-31T09:30:39.041504Z",
     "shell.execute_reply": "2025-08-31T09:30:39.040245Z"
    },
    "papermill": {
     "duration": 0.248384,
     "end_time": "2025-08-31T09:30:39.043398",
     "exception": false,
     "start_time": "2025-08-31T09:30:38.795014",
     "status": "completed"
    },
    "tags": []
   },
   "outputs": [],
   "source": [
    "#Scaling values\n",
    "X_train=X_train/ma\n",
    "X_test=X_test/mi"
   ]
  },
  {
   "cell_type": "code",
   "execution_count": 11,
   "id": "b221f23d",
   "metadata": {
    "execution": {
     "iopub.execute_input": "2025-08-31T09:30:39.056522Z",
     "iopub.status.busy": "2025-08-31T09:30:39.056190Z",
     "iopub.status.idle": "2025-08-31T09:30:39.064091Z",
     "shell.execute_reply": "2025-08-31T09:30:39.063015Z"
    },
    "papermill": {
     "duration": 0.016576,
     "end_time": "2025-08-31T09:30:39.066141",
     "exception": false,
     "start_time": "2025-08-31T09:30:39.049565",
     "status": "completed"
    },
    "tags": []
   },
   "outputs": [
    {
     "data": {
      "text/plain": [
       "array([[[0., 0., 0., ..., 0., 0., 0.],\n",
       "        [0., 0., 0., ..., 0., 0., 0.],\n",
       "        [0., 0., 0., ..., 0., 0., 0.],\n",
       "        ...,\n",
       "        [0., 0., 0., ..., 0., 0., 0.],\n",
       "        [0., 0., 0., ..., 0., 0., 0.],\n",
       "        [0., 0., 0., ..., 0., 0., 0.]],\n",
       "\n",
       "       [[0., 0., 0., ..., 0., 0., 0.],\n",
       "        [0., 0., 0., ..., 0., 0., 0.],\n",
       "        [0., 0., 0., ..., 0., 0., 0.],\n",
       "        ...,\n",
       "        [0., 0., 0., ..., 0., 0., 0.],\n",
       "        [0., 0., 0., ..., 0., 0., 0.],\n",
       "        [0., 0., 0., ..., 0., 0., 0.]],\n",
       "\n",
       "       [[0., 0., 0., ..., 0., 0., 0.],\n",
       "        [0., 0., 0., ..., 0., 0., 0.],\n",
       "        [0., 0., 0., ..., 0., 0., 0.],\n",
       "        ...,\n",
       "        [0., 0., 0., ..., 0., 0., 0.],\n",
       "        [0., 0., 0., ..., 0., 0., 0.],\n",
       "        [0., 0., 0., ..., 0., 0., 0.]],\n",
       "\n",
       "       ...,\n",
       "\n",
       "       [[0., 0., 0., ..., 0., 0., 0.],\n",
       "        [0., 0., 0., ..., 0., 0., 0.],\n",
       "        [0., 0., 0., ..., 0., 0., 0.],\n",
       "        ...,\n",
       "        [0., 0., 0., ..., 0., 0., 0.],\n",
       "        [0., 0., 0., ..., 0., 0., 0.],\n",
       "        [0., 0., 0., ..., 0., 0., 0.]],\n",
       "\n",
       "       [[0., 0., 0., ..., 0., 0., 0.],\n",
       "        [0., 0., 0., ..., 0., 0., 0.],\n",
       "        [0., 0., 0., ..., 0., 0., 0.],\n",
       "        ...,\n",
       "        [0., 0., 0., ..., 0., 0., 0.],\n",
       "        [0., 0., 0., ..., 0., 0., 0.],\n",
       "        [0., 0., 0., ..., 0., 0., 0.]],\n",
       "\n",
       "       [[0., 0., 0., ..., 0., 0., 0.],\n",
       "        [0., 0., 0., ..., 0., 0., 0.],\n",
       "        [0., 0., 0., ..., 0., 0., 0.],\n",
       "        ...,\n",
       "        [0., 0., 0., ..., 0., 0., 0.],\n",
       "        [0., 0., 0., ..., 0., 0., 0.],\n",
       "        [0., 0., 0., ..., 0., 0., 0.]]])"
      ]
     },
     "execution_count": 11,
     "metadata": {},
     "output_type": "execute_result"
    }
   ],
   "source": [
    "X_train"
   ]
  },
  {
   "cell_type": "code",
   "execution_count": 12,
   "id": "4c926d14",
   "metadata": {
    "execution": {
     "iopub.execute_input": "2025-08-31T09:30:39.080996Z",
     "iopub.status.busy": "2025-08-31T09:30:39.080663Z",
     "iopub.status.idle": "2025-08-31T09:30:39.172412Z",
     "shell.execute_reply": "2025-08-31T09:30:39.171473Z"
    },
    "papermill": {
     "duration": 0.100163,
     "end_time": "2025-08-31T09:30:39.174287",
     "exception": false,
     "start_time": "2025-08-31T09:30:39.074124",
     "status": "completed"
    },
    "tags": []
   },
   "outputs": [
    {
     "name": "stderr",
     "output_type": "stream",
     "text": [
      "/usr/local/lib/python3.11/dist-packages/keras/src/layers/reshaping/flatten.py:37: UserWarning: Do not pass an `input_shape`/`input_dim` argument to a layer. When using Sequential models, prefer using an `Input(shape)` object as the first layer in the model instead.\n",
      "  super().__init__(**kwargs)\n",
      "2025-08-31 09:30:39.096425: E external/local_xla/xla/stream_executor/cuda/cuda_driver.cc:152] failed call to cuInit: INTERNAL: CUDA error: Failed call to cuInit: UNKNOWN ERROR (303)\n"
     ]
    }
   ],
   "source": [
    "model=Sequential()\n",
    "model.add(Flatten(input_shape=(28,28)))\n",
    "model.add(Dense(128,activation='relu'))\n",
    "model.add(Dense(10,activation='softmax'))"
   ]
  },
  {
   "cell_type": "code",
   "execution_count": 13,
   "id": "5ad3b656",
   "metadata": {
    "execution": {
     "iopub.execute_input": "2025-08-31T09:30:39.187774Z",
     "iopub.status.busy": "2025-08-31T09:30:39.187390Z",
     "iopub.status.idle": "2025-08-31T09:30:39.205431Z",
     "shell.execute_reply": "2025-08-31T09:30:39.204660Z"
    },
    "papermill": {
     "duration": 0.026269,
     "end_time": "2025-08-31T09:30:39.206812",
     "exception": false,
     "start_time": "2025-08-31T09:30:39.180543",
     "status": "completed"
    },
    "tags": []
   },
   "outputs": [
    {
     "data": {
      "text/html": [
       "<pre style=\"white-space:pre;overflow-x:auto;line-height:normal;font-family:Menlo,'DejaVu Sans Mono',consolas,'Courier New',monospace\"><span style=\"font-weight: bold\">Model: \"sequential\"</span>\n",
       "</pre>\n"
      ],
      "text/plain": [
       "\u001b[1mModel: \"sequential\"\u001b[0m\n"
      ]
     },
     "metadata": {},
     "output_type": "display_data"
    },
    {
     "data": {
      "text/html": [
       "<pre style=\"white-space:pre;overflow-x:auto;line-height:normal;font-family:Menlo,'DejaVu Sans Mono',consolas,'Courier New',monospace\">┏━━━━━━━━━━━━━━━━━━━━━━━━━━━━━━━━━┳━━━━━━━━━━━━━━━━━━━━━━━━┳━━━━━━━━━━━━━━━┓\n",
       "┃<span style=\"font-weight: bold\"> Layer (type)                    </span>┃<span style=\"font-weight: bold\"> Output Shape           </span>┃<span style=\"font-weight: bold\">       Param # </span>┃\n",
       "┡━━━━━━━━━━━━━━━━━━━━━━━━━━━━━━━━━╇━━━━━━━━━━━━━━━━━━━━━━━━╇━━━━━━━━━━━━━━━┩\n",
       "│ flatten (<span style=\"color: #0087ff; text-decoration-color: #0087ff\">Flatten</span>)               │ (<span style=\"color: #00d7ff; text-decoration-color: #00d7ff\">None</span>, <span style=\"color: #00af00; text-decoration-color: #00af00\">784</span>)            │             <span style=\"color: #00af00; text-decoration-color: #00af00\">0</span> │\n",
       "├─────────────────────────────────┼────────────────────────┼───────────────┤\n",
       "│ dense (<span style=\"color: #0087ff; text-decoration-color: #0087ff\">Dense</span>)                   │ (<span style=\"color: #00d7ff; text-decoration-color: #00d7ff\">None</span>, <span style=\"color: #00af00; text-decoration-color: #00af00\">128</span>)            │       <span style=\"color: #00af00; text-decoration-color: #00af00\">100,480</span> │\n",
       "├─────────────────────────────────┼────────────────────────┼───────────────┤\n",
       "│ dense_1 (<span style=\"color: #0087ff; text-decoration-color: #0087ff\">Dense</span>)                 │ (<span style=\"color: #00d7ff; text-decoration-color: #00d7ff\">None</span>, <span style=\"color: #00af00; text-decoration-color: #00af00\">10</span>)             │         <span style=\"color: #00af00; text-decoration-color: #00af00\">1,290</span> │\n",
       "└─────────────────────────────────┴────────────────────────┴───────────────┘\n",
       "</pre>\n"
      ],
      "text/plain": [
       "┏━━━━━━━━━━━━━━━━━━━━━━━━━━━━━━━━━┳━━━━━━━━━━━━━━━━━━━━━━━━┳━━━━━━━━━━━━━━━┓\n",
       "┃\u001b[1m \u001b[0m\u001b[1mLayer (type)                   \u001b[0m\u001b[1m \u001b[0m┃\u001b[1m \u001b[0m\u001b[1mOutput Shape          \u001b[0m\u001b[1m \u001b[0m┃\u001b[1m \u001b[0m\u001b[1m      Param #\u001b[0m\u001b[1m \u001b[0m┃\n",
       "┡━━━━━━━━━━━━━━━━━━━━━━━━━━━━━━━━━╇━━━━━━━━━━━━━━━━━━━━━━━━╇━━━━━━━━━━━━━━━┩\n",
       "│ flatten (\u001b[38;5;33mFlatten\u001b[0m)               │ (\u001b[38;5;45mNone\u001b[0m, \u001b[38;5;34m784\u001b[0m)            │             \u001b[38;5;34m0\u001b[0m │\n",
       "├─────────────────────────────────┼────────────────────────┼───────────────┤\n",
       "│ dense (\u001b[38;5;33mDense\u001b[0m)                   │ (\u001b[38;5;45mNone\u001b[0m, \u001b[38;5;34m128\u001b[0m)            │       \u001b[38;5;34m100,480\u001b[0m │\n",
       "├─────────────────────────────────┼────────────────────────┼───────────────┤\n",
       "│ dense_1 (\u001b[38;5;33mDense\u001b[0m)                 │ (\u001b[38;5;45mNone\u001b[0m, \u001b[38;5;34m10\u001b[0m)             │         \u001b[38;5;34m1,290\u001b[0m │\n",
       "└─────────────────────────────────┴────────────────────────┴───────────────┘\n"
      ]
     },
     "metadata": {},
     "output_type": "display_data"
    },
    {
     "data": {
      "text/html": [
       "<pre style=\"white-space:pre;overflow-x:auto;line-height:normal;font-family:Menlo,'DejaVu Sans Mono',consolas,'Courier New',monospace\"><span style=\"font-weight: bold\"> Total params: </span><span style=\"color: #00af00; text-decoration-color: #00af00\">101,770</span> (397.54 KB)\n",
       "</pre>\n"
      ],
      "text/plain": [
       "\u001b[1m Total params: \u001b[0m\u001b[38;5;34m101,770\u001b[0m (397.54 KB)\n"
      ]
     },
     "metadata": {},
     "output_type": "display_data"
    },
    {
     "data": {
      "text/html": [
       "<pre style=\"white-space:pre;overflow-x:auto;line-height:normal;font-family:Menlo,'DejaVu Sans Mono',consolas,'Courier New',monospace\"><span style=\"font-weight: bold\"> Trainable params: </span><span style=\"color: #00af00; text-decoration-color: #00af00\">101,770</span> (397.54 KB)\n",
       "</pre>\n"
      ],
      "text/plain": [
       "\u001b[1m Trainable params: \u001b[0m\u001b[38;5;34m101,770\u001b[0m (397.54 KB)\n"
      ]
     },
     "metadata": {},
     "output_type": "display_data"
    },
    {
     "data": {
      "text/html": [
       "<pre style=\"white-space:pre;overflow-x:auto;line-height:normal;font-family:Menlo,'DejaVu Sans Mono',consolas,'Courier New',monospace\"><span style=\"font-weight: bold\"> Non-trainable params: </span><span style=\"color: #00af00; text-decoration-color: #00af00\">0</span> (0.00 B)\n",
       "</pre>\n"
      ],
      "text/plain": [
       "\u001b[1m Non-trainable params: \u001b[0m\u001b[38;5;34m0\u001b[0m (0.00 B)\n"
      ]
     },
     "metadata": {},
     "output_type": "display_data"
    }
   ],
   "source": [
    "model.summary()"
   ]
  },
  {
   "cell_type": "code",
   "execution_count": 14,
   "id": "32773c64",
   "metadata": {
    "execution": {
     "iopub.execute_input": "2025-08-31T09:30:39.220996Z",
     "iopub.status.busy": "2025-08-31T09:30:39.220683Z",
     "iopub.status.idle": "2025-08-31T09:30:39.236756Z",
     "shell.execute_reply": "2025-08-31T09:30:39.235938Z"
    },
    "papermill": {
     "duration": 0.025367,
     "end_time": "2025-08-31T09:30:39.238695",
     "exception": false,
     "start_time": "2025-08-31T09:30:39.213328",
     "status": "completed"
    },
    "tags": []
   },
   "outputs": [],
   "source": [
    "model.compile(loss='sparse_categorical_crossentropy',optimizer='Adam',metrics=['accuracy'])"
   ]
  },
  {
   "cell_type": "code",
   "execution_count": 15,
   "id": "f1c3da0d",
   "metadata": {
    "execution": {
     "iopub.execute_input": "2025-08-31T09:30:39.253135Z",
     "iopub.status.busy": "2025-08-31T09:30:39.252464Z",
     "iopub.status.idle": "2025-08-31T09:31:38.830795Z",
     "shell.execute_reply": "2025-08-31T09:31:38.830010Z"
    },
    "papermill": {
     "duration": 59.587593,
     "end_time": "2025-08-31T09:31:38.832561",
     "exception": false,
     "start_time": "2025-08-31T09:30:39.244968",
     "status": "completed"
    },
    "tags": []
   },
   "outputs": [
    {
     "name": "stdout",
     "output_type": "stream",
     "text": [
      "Epoch 1/10\n",
      "\u001b[1m1500/1500\u001b[0m \u001b[32m━━━━━━━━━━━━━━━━━━━━\u001b[0m\u001b[37m\u001b[0m \u001b[1m7s\u001b[0m 4ms/step - accuracy: 0.8670 - loss: 0.4630 - val_accuracy: 0.9523 - val_loss: 0.1616\n",
      "Epoch 2/10\n",
      "\u001b[1m1500/1500\u001b[0m \u001b[32m━━━━━━━━━━━━━━━━━━━━\u001b[0m\u001b[37m\u001b[0m \u001b[1m6s\u001b[0m 4ms/step - accuracy: 0.9594 - loss: 0.1375 - val_accuracy: 0.9672 - val_loss: 0.1163\n",
      "Epoch 3/10\n",
      "\u001b[1m1500/1500\u001b[0m \u001b[32m━━━━━━━━━━━━━━━━━━━━\u001b[0m\u001b[37m\u001b[0m \u001b[1m6s\u001b[0m 4ms/step - accuracy: 0.9741 - loss: 0.0880 - val_accuracy: 0.9706 - val_loss: 0.0979\n",
      "Epoch 4/10\n",
      "\u001b[1m1500/1500\u001b[0m \u001b[32m━━━━━━━━━━━━━━━━━━━━\u001b[0m\u001b[37m\u001b[0m \u001b[1m6s\u001b[0m 4ms/step - accuracy: 0.9822 - loss: 0.0606 - val_accuracy: 0.9697 - val_loss: 0.0965\n",
      "Epoch 5/10\n",
      "\u001b[1m1500/1500\u001b[0m \u001b[32m━━━━━━━━━━━━━━━━━━━━\u001b[0m\u001b[37m\u001b[0m \u001b[1m5s\u001b[0m 4ms/step - accuracy: 0.9854 - loss: 0.0469 - val_accuracy: 0.9714 - val_loss: 0.1014\n",
      "Epoch 6/10\n",
      "\u001b[1m1500/1500\u001b[0m \u001b[32m━━━━━━━━━━━━━━━━━━━━\u001b[0m\u001b[37m\u001b[0m \u001b[1m6s\u001b[0m 4ms/step - accuracy: 0.9894 - loss: 0.0380 - val_accuracy: 0.9732 - val_loss: 0.0919\n",
      "Epoch 7/10\n",
      "\u001b[1m1500/1500\u001b[0m \u001b[32m━━━━━━━━━━━━━━━━━━━━\u001b[0m\u001b[37m\u001b[0m \u001b[1m6s\u001b[0m 4ms/step - accuracy: 0.9918 - loss: 0.0285 - val_accuracy: 0.9753 - val_loss: 0.0894\n",
      "Epoch 8/10\n",
      "\u001b[1m1500/1500\u001b[0m \u001b[32m━━━━━━━━━━━━━━━━━━━━\u001b[0m\u001b[37m\u001b[0m \u001b[1m6s\u001b[0m 4ms/step - accuracy: 0.9937 - loss: 0.0232 - val_accuracy: 0.9735 - val_loss: 0.0972\n",
      "Epoch 9/10\n",
      "\u001b[1m1500/1500\u001b[0m \u001b[32m━━━━━━━━━━━━━━━━━━━━\u001b[0m\u001b[37m\u001b[0m \u001b[1m6s\u001b[0m 4ms/step - accuracy: 0.9951 - loss: 0.0178 - val_accuracy: 0.9752 - val_loss: 0.0992\n",
      "Epoch 10/10\n",
      "\u001b[1m1500/1500\u001b[0m \u001b[32m━━━━━━━━━━━━━━━━━━━━\u001b[0m\u001b[37m\u001b[0m \u001b[1m6s\u001b[0m 4ms/step - accuracy: 0.9963 - loss: 0.0139 - val_accuracy: 0.9752 - val_loss: 0.0997\n"
     ]
    }
   ],
   "source": [
    "history=model.fit(X_train,y_train,epochs=10,validation_split=0.2)"
   ]
  },
  {
   "cell_type": "code",
   "execution_count": 16,
   "id": "57e04494",
   "metadata": {
    "execution": {
     "iopub.execute_input": "2025-08-31T09:31:38.945519Z",
     "iopub.status.busy": "2025-08-31T09:31:38.945184Z",
     "iopub.status.idle": "2025-08-31T09:31:39.798192Z",
     "shell.execute_reply": "2025-08-31T09:31:39.796995Z"
    },
    "papermill": {
     "duration": 0.911567,
     "end_time": "2025-08-31T09:31:39.800039",
     "exception": false,
     "start_time": "2025-08-31T09:31:38.888472",
     "status": "completed"
    },
    "tags": []
   },
   "outputs": [
    {
     "name": "stdout",
     "output_type": "stream",
     "text": [
      "\u001b[1m313/313\u001b[0m \u001b[32m━━━━━━━━━━━━━━━━━━━━\u001b[0m\u001b[37m\u001b[0m \u001b[1m1s\u001b[0m 2ms/step\n"
     ]
    }
   ],
   "source": [
    "y_prob=model.predict(X_test)"
   ]
  },
  {
   "cell_type": "code",
   "execution_count": 17,
   "id": "6fc7dadf",
   "metadata": {
    "execution": {
     "iopub.execute_input": "2025-08-31T09:31:39.983253Z",
     "iopub.status.busy": "2025-08-31T09:31:39.982920Z",
     "iopub.status.idle": "2025-08-31T09:31:39.989822Z",
     "shell.execute_reply": "2025-08-31T09:31:39.988845Z"
    },
    "papermill": {
     "duration": 0.065143,
     "end_time": "2025-08-31T09:31:39.991131",
     "exception": false,
     "start_time": "2025-08-31T09:31:39.925988",
     "status": "completed"
    },
    "tags": []
   },
   "outputs": [
    {
     "data": {
      "text/plain": [
       "array([[1.2933309e-09, 7.9275664e-10, 2.5698941e-07, ..., 9.9999291e-01,\n",
       "        4.9183893e-09, 1.0306486e-07],\n",
       "       [3.8104627e-11, 1.9513032e-05, 9.9996859e-01, ..., 1.6124760e-15,\n",
       "        6.3951791e-07, 1.1380723e-16],\n",
       "       [8.6266766e-08, 9.9986839e-01, 2.3916416e-05, ..., 9.4836005e-06,\n",
       "        9.1997528e-05, 2.9517526e-08],\n",
       "       ...,\n",
       "       [8.8931445e-13, 1.1086538e-13, 1.0474118e-14, ..., 2.8050817e-08,\n",
       "        1.7426087e-08, 7.5103969e-08],\n",
       "       [1.5396760e-13, 6.0076930e-14, 2.2441882e-17, ..., 5.8641958e-10,\n",
       "        8.5179809e-06, 4.6358842e-13],\n",
       "       [9.1384661e-10, 5.4260974e-13, 3.5210813e-11, ..., 3.3740890e-15,\n",
       "        6.3458326e-13, 1.3869239e-13]], dtype=float32)"
      ]
     },
     "execution_count": 17,
     "metadata": {},
     "output_type": "execute_result"
    }
   ],
   "source": [
    "y_prob"
   ]
  },
  {
   "cell_type": "code",
   "execution_count": 18,
   "id": "259e01be",
   "metadata": {
    "execution": {
     "iopub.execute_input": "2025-08-31T09:31:40.103188Z",
     "iopub.status.busy": "2025-08-31T09:31:40.102892Z",
     "iopub.status.idle": "2025-08-31T09:31:40.107423Z",
     "shell.execute_reply": "2025-08-31T09:31:40.106585Z"
    },
    "papermill": {
     "duration": 0.062204,
     "end_time": "2025-08-31T09:31:40.108855",
     "exception": false,
     "start_time": "2025-08-31T09:31:40.046651",
     "status": "completed"
    },
    "tags": []
   },
   "outputs": [],
   "source": [
    "y_pred=y_prob.argmax(axis=1) #finds the index of class with highest probabiliy"
   ]
  },
  {
   "cell_type": "code",
   "execution_count": 19,
   "id": "89ea8a0e",
   "metadata": {
    "execution": {
     "iopub.execute_input": "2025-08-31T09:31:40.220769Z",
     "iopub.status.busy": "2025-08-31T09:31:40.220478Z",
     "iopub.status.idle": "2025-08-31T09:31:40.226374Z",
     "shell.execute_reply": "2025-08-31T09:31:40.225449Z"
    },
    "papermill": {
     "duration": 0.064069,
     "end_time": "2025-08-31T09:31:40.227874",
     "exception": false,
     "start_time": "2025-08-31T09:31:40.163805",
     "status": "completed"
    },
    "tags": []
   },
   "outputs": [
    {
     "data": {
      "text/plain": [
       "array([7, 2, 1, ..., 4, 5, 6])"
      ]
     },
     "execution_count": 19,
     "metadata": {},
     "output_type": "execute_result"
    }
   ],
   "source": [
    "y_pred"
   ]
  },
  {
   "cell_type": "code",
   "execution_count": 20,
   "id": "376cfff4",
   "metadata": {
    "execution": {
     "iopub.execute_input": "2025-08-31T09:31:40.349284Z",
     "iopub.status.busy": "2025-08-31T09:31:40.348951Z",
     "iopub.status.idle": "2025-08-31T09:31:40.507877Z",
     "shell.execute_reply": "2025-08-31T09:31:40.506809Z"
    },
    "papermill": {
     "duration": 0.222095,
     "end_time": "2025-08-31T09:31:40.509811",
     "exception": false,
     "start_time": "2025-08-31T09:31:40.287716",
     "status": "completed"
    },
    "tags": []
   },
   "outputs": [],
   "source": [
    "from sklearn.metrics import accuracy_score\n",
    "accuracy=accuracy_score(y_pred,y_test)"
   ]
  },
  {
   "cell_type": "code",
   "execution_count": 21,
   "id": "17679762",
   "metadata": {
    "execution": {
     "iopub.execute_input": "2025-08-31T09:31:40.625375Z",
     "iopub.status.busy": "2025-08-31T09:31:40.625021Z",
     "iopub.status.idle": "2025-08-31T09:31:40.631152Z",
     "shell.execute_reply": "2025-08-31T09:31:40.630184Z"
    },
    "papermill": {
     "duration": 0.065796,
     "end_time": "2025-08-31T09:31:40.632854",
     "exception": false,
     "start_time": "2025-08-31T09:31:40.567058",
     "status": "completed"
    },
    "tags": []
   },
   "outputs": [
    {
     "data": {
      "text/plain": [
       "0.9775"
      ]
     },
     "execution_count": 21,
     "metadata": {},
     "output_type": "execute_result"
    }
   ],
   "source": [
    "accuracy"
   ]
  },
  {
   "cell_type": "code",
   "execution_count": 22,
   "id": "87709df8",
   "metadata": {
    "execution": {
     "iopub.execute_input": "2025-08-31T09:31:40.748676Z",
     "iopub.status.busy": "2025-08-31T09:31:40.748350Z",
     "iopub.status.idle": "2025-08-31T09:31:40.901483Z",
     "shell.execute_reply": "2025-08-31T09:31:40.900316Z"
    },
    "papermill": {
     "duration": 0.21229,
     "end_time": "2025-08-31T09:31:40.903240",
     "exception": false,
     "start_time": "2025-08-31T09:31:40.690950",
     "status": "completed"
    },
    "tags": []
   },
   "outputs": [
    {
     "data": {
      "text/plain": [
       "[<matplotlib.lines.Line2D at 0x7b955d7afa50>]"
      ]
     },
     "execution_count": 22,
     "metadata": {},
     "output_type": "execute_result"
    },
    {
     "data": {
      "image/png": "[encoded data removed]",
      "text/plain": [
       "<Figure size 640x480 with 1 Axes>"
      ]
     },
     "metadata": {},
     "output_type": "display_data"
    }
   ],
   "source": [
    "import matplotlib.pyplot as plt\n",
    "plt.plot(history.history['loss'])\n",
    "plt.plot(history.history['val_loss'])"
   ]
  },
  {
   "cell_type": "code",
   "execution_count": 23,
   "id": "5d4c75dc",
   "metadata": {
    "execution": {
     "iopub.execute_input": "2025-08-31T09:31:41.020142Z",
     "iopub.status.busy": "2025-08-31T09:31:41.019103Z",
     "iopub.status.idle": "2025-08-31T09:31:41.183480Z",
     "shell.execute_reply": "2025-08-31T09:31:41.182447Z"
    },
    "papermill": {
     "duration": 0.223518,
     "end_time": "2025-08-31T09:31:41.185037",
     "exception": false,
     "start_time": "2025-08-31T09:31:40.961519",
     "status": "completed"
    },
    "tags": []
   },
   "outputs": [
    {
     "data": {
      "text/plain": [
       "[<matplotlib.lines.Line2D at 0x7b955d7f5750>]"
      ]
     },
     "execution_count": 23,
     "metadata": {},
     "output_type": "execute_result"
    },
    {
     "data": {
      "image/png": "[encoded data removed]",
      "text/plain": [
       "<Figure size 640x480 with 1 Axes>"
      ]
     },
     "metadata": {},
     "output_type": "display_data"
    }
   ],
   "source": [
    "plt.plot(history.history['accuracy'])\n",
    "plt.plot(history.history['val_accuracy'])"
   ]
  },
  {
   "cell_type": "code",
   "execution_count": 24,
   "id": "c4b78f3e",
   "metadata": {
    "execution": {
     "iopub.execute_input": "2025-08-31T09:31:41.303535Z",
     "iopub.status.busy": "2025-08-31T09:31:41.303163Z",
     "iopub.status.idle": "2025-08-31T09:31:41.485524Z",
     "shell.execute_reply": "2025-08-31T09:31:41.484483Z"
    },
    "papermill": {
     "duration": 0.244674,
     "end_time": "2025-08-31T09:31:41.487116",
     "exception": false,
     "start_time": "2025-08-31T09:31:41.242442",
     "status": "completed"
    },
    "tags": []
   },
   "outputs": [
    {
     "data": {
      "text/plain": [
       "<matplotlib.image.AxesImage at 0x7b955d411b10>"
      ]
     },
     "execution_count": 24,
     "metadata": {},
     "output_type": "execute_result"
    },
    {
     "data": {
      "image/png": "[encoded data removed]",
      "text/plain": [
       "<Figure size 640x480 with 1 Axes>"
      ]
     },
     "metadata": {},
     "output_type": "display_data"
    }
   ],
   "source": [
    "plt.imshow(X_test[0])"
   ]
  },
  {
   "cell_type": "code",
   "execution_count": 25,
   "id": "91d53aad",
   "metadata": {
    "execution": {
     "iopub.execute_input": "2025-08-31T09:31:41.604219Z",
     "iopub.status.busy": "2025-08-31T09:31:41.603880Z",
     "iopub.status.idle": "2025-08-31T09:31:41.707875Z",
     "shell.execute_reply": "2025-08-31T09:31:41.707098Z"
    },
    "papermill": {
     "duration": 0.164771,
     "end_time": "2025-08-31T09:31:41.709369",
     "exception": false,
     "start_time": "2025-08-31T09:31:41.544598",
     "status": "completed"
    },
    "tags": []
   },
   "outputs": [
    {
     "name": "stdout",
     "output_type": "stream",
     "text": [
      "\u001b[1m1/1\u001b[0m \u001b[32m━━━━━━━━━━━━━━━━━━━━\u001b[0m\u001b[37m\u001b[0m \u001b[1m0s\u001b[0m 39ms/step\n"
     ]
    },
    {
     "data": {
      "text/plain": [
       "array([7])"
      ]
     },
     "execution_count": 25,
     "metadata": {},
     "output_type": "execute_result"
    }
   ],
   "source": [
    "model.predict(X_test[0].reshape(1,28,28)).argmax(axis=1)"
   ]
  },
  {
   "cell_type": "code",
   "execution_count": null,
   "id": "25b2e353",
   "metadata": {
    "papermill": {
     "duration": 0.05628,
     "end_time": "2025-08-31T09:31:41.822545",
     "exception": false,
     "start_time": "2025-08-31T09:31:41.766265",
     "status": "completed"
    },
    "tags": []
   },
   "outputs": [],
   "source": []
  }
 ],
 "metadata": {
  "kaggle": {
   "accelerator": "none",
   "dataSources": [
    {
     "datasetId": 102285,
     "sourceId": 242592,
     "sourceType": "datasetVersion"
    }
   ],
   "dockerImageVersionId": 31089,
   "isGpuEnabled": false,
   "isInternetEnabled": true,
   "language": "python",
   "sourceType": "notebook"
  },
  "kernelspec": {
   "display_name": "Python 3",
   "language": "python",
   "name": "python3"
  },
  "language_info": {
   "codemirror_mode": {
    "name": "ipython",
    "version": 3
   },
   "file_extension": ".py",
   "mimetype": "text/x-python",
   "name": "python",
   "nbconvert_exporter": "python",
   "pygments_lexer": "ipython3",
   "version": "3.11.13"
  },
  "papermill": {
   "default_parameters": {},
   "duration": 94.831132,
   "end_time": "2025-08-31T09:31:44.661754",
   "environment_variables": {},
   "exception": null,
   "input_path": "__notebook__.ipynb",
   "output_path": "__notebook__.ipynb",
   "parameters": {},
   "start_time": "2025-08-31T09:30:09.830622",
   "version": "2.6.0"
  }
 },
 "nbformat": 4,
 "nbformat_minor": 5
}
